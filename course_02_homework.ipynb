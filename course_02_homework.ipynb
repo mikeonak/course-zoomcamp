{
 "cells": [
  {
   "cell_type": "code",
   "execution_count": 4,
   "id": "578c6a8e",
   "metadata": {},
   "outputs": [],
   "source": [
    "import pandas as pd\n",
    "import numpy  as np\n"
   ]
  },
  {
   "cell_type": "code",
   "execution_count": 5,
   "id": "e509f24f",
   "metadata": {},
   "outputs": [],
   "source": [
    "df = pd.read_csv('AB_NYC_2019.txt')"
   ]
  },
  {
   "cell_type": "code",
   "execution_count": 6,
   "id": "44a30380",
   "metadata": {},
   "outputs": [
    {
     "data": {
      "text/html": [
       "<div>\n",
       "<style scoped>\n",
       "    .dataframe tbody tr th:only-of-type {\n",
       "        vertical-align: middle;\n",
       "    }\n",
       "\n",
       "    .dataframe tbody tr th {\n",
       "        vertical-align: top;\n",
       "    }\n",
       "\n",
       "    .dataframe thead th {\n",
       "        text-align: right;\n",
       "    }\n",
       "</style>\n",
       "<table border=\"1\" class=\"dataframe\">\n",
       "  <thead>\n",
       "    <tr style=\"text-align: right;\">\n",
       "      <th></th>\n",
       "      <th>id</th>\n",
       "      <th>name</th>\n",
       "      <th>host_id</th>\n",
       "      <th>host_name</th>\n",
       "      <th>neighbourhood_group</th>\n",
       "      <th>neighbourhood</th>\n",
       "      <th>latitude</th>\n",
       "      <th>longitude</th>\n",
       "      <th>room_type</th>\n",
       "      <th>price</th>\n",
       "      <th>minimum_nights</th>\n",
       "      <th>number_of_reviews</th>\n",
       "      <th>last_review</th>\n",
       "      <th>reviews_per_month</th>\n",
       "      <th>calculated_host_listings_count</th>\n",
       "      <th>availability_365</th>\n",
       "    </tr>\n",
       "  </thead>\n",
       "  <tbody>\n",
       "    <tr>\n",
       "      <th>0</th>\n",
       "      <td>2539</td>\n",
       "      <td>Clean &amp; quiet apt home by the park</td>\n",
       "      <td>2787</td>\n",
       "      <td>John</td>\n",
       "      <td>Brooklyn</td>\n",
       "      <td>Kensington</td>\n",
       "      <td>40.64749</td>\n",
       "      <td>-73.97237</td>\n",
       "      <td>Private room</td>\n",
       "      <td>149</td>\n",
       "      <td>1</td>\n",
       "      <td>9</td>\n",
       "      <td>2018-10-19</td>\n",
       "      <td>0.21</td>\n",
       "      <td>6</td>\n",
       "      <td>365</td>\n",
       "    </tr>\n",
       "    <tr>\n",
       "      <th>1</th>\n",
       "      <td>2595</td>\n",
       "      <td>Skylit Midtown Castle</td>\n",
       "      <td>2845</td>\n",
       "      <td>Jennifer</td>\n",
       "      <td>Manhattan</td>\n",
       "      <td>Midtown</td>\n",
       "      <td>40.75362</td>\n",
       "      <td>-73.98377</td>\n",
       "      <td>Entire home/apt</td>\n",
       "      <td>225</td>\n",
       "      <td>1</td>\n",
       "      <td>45</td>\n",
       "      <td>2019-05-21</td>\n",
       "      <td>0.38</td>\n",
       "      <td>2</td>\n",
       "      <td>355</td>\n",
       "    </tr>\n",
       "    <tr>\n",
       "      <th>2</th>\n",
       "      <td>3647</td>\n",
       "      <td>THE VILLAGE OF HARLEM....NEW YORK !</td>\n",
       "      <td>4632</td>\n",
       "      <td>Elisabeth</td>\n",
       "      <td>Manhattan</td>\n",
       "      <td>Harlem</td>\n",
       "      <td>40.80902</td>\n",
       "      <td>-73.94190</td>\n",
       "      <td>Private room</td>\n",
       "      <td>150</td>\n",
       "      <td>3</td>\n",
       "      <td>0</td>\n",
       "      <td>NaN</td>\n",
       "      <td>NaN</td>\n",
       "      <td>1</td>\n",
       "      <td>365</td>\n",
       "    </tr>\n",
       "    <tr>\n",
       "      <th>3</th>\n",
       "      <td>3831</td>\n",
       "      <td>Cozy Entire Floor of Brownstone</td>\n",
       "      <td>4869</td>\n",
       "      <td>LisaRoxanne</td>\n",
       "      <td>Brooklyn</td>\n",
       "      <td>Clinton Hill</td>\n",
       "      <td>40.68514</td>\n",
       "      <td>-73.95976</td>\n",
       "      <td>Entire home/apt</td>\n",
       "      <td>89</td>\n",
       "      <td>1</td>\n",
       "      <td>270</td>\n",
       "      <td>2019-07-05</td>\n",
       "      <td>4.64</td>\n",
       "      <td>1</td>\n",
       "      <td>194</td>\n",
       "    </tr>\n",
       "    <tr>\n",
       "      <th>4</th>\n",
       "      <td>5022</td>\n",
       "      <td>Entire Apt: Spacious Studio/Loft by central park</td>\n",
       "      <td>7192</td>\n",
       "      <td>Laura</td>\n",
       "      <td>Manhattan</td>\n",
       "      <td>East Harlem</td>\n",
       "      <td>40.79851</td>\n",
       "      <td>-73.94399</td>\n",
       "      <td>Entire home/apt</td>\n",
       "      <td>80</td>\n",
       "      <td>10</td>\n",
       "      <td>9</td>\n",
       "      <td>2018-11-19</td>\n",
       "      <td>0.10</td>\n",
       "      <td>1</td>\n",
       "      <td>0</td>\n",
       "    </tr>\n",
       "  </tbody>\n",
       "</table>\n",
       "</div>"
      ],
      "text/plain": [
       "     id                                              name  host_id  \\\n",
       "0  2539                Clean & quiet apt home by the park     2787   \n",
       "1  2595                             Skylit Midtown Castle     2845   \n",
       "2  3647               THE VILLAGE OF HARLEM....NEW YORK !     4632   \n",
       "3  3831                   Cozy Entire Floor of Brownstone     4869   \n",
       "4  5022  Entire Apt: Spacious Studio/Loft by central park     7192   \n",
       "\n",
       "     host_name neighbourhood_group neighbourhood  latitude  longitude  \\\n",
       "0         John            Brooklyn    Kensington  40.64749  -73.97237   \n",
       "1     Jennifer           Manhattan       Midtown  40.75362  -73.98377   \n",
       "2    Elisabeth           Manhattan        Harlem  40.80902  -73.94190   \n",
       "3  LisaRoxanne            Brooklyn  Clinton Hill  40.68514  -73.95976   \n",
       "4        Laura           Manhattan   East Harlem  40.79851  -73.94399   \n",
       "\n",
       "         room_type  price  minimum_nights  number_of_reviews last_review  \\\n",
       "0     Private room    149               1                  9  2018-10-19   \n",
       "1  Entire home/apt    225               1                 45  2019-05-21   \n",
       "2     Private room    150               3                  0         NaN   \n",
       "3  Entire home/apt     89               1                270  2019-07-05   \n",
       "4  Entire home/apt     80              10                  9  2018-11-19   \n",
       "\n",
       "   reviews_per_month  calculated_host_listings_count  availability_365  \n",
       "0               0.21                               6               365  \n",
       "1               0.38                               2               355  \n",
       "2                NaN                               1               365  \n",
       "3               4.64                               1               194  \n",
       "4               0.10                               1                 0  "
      ]
     },
     "execution_count": 6,
     "metadata": {},
     "output_type": "execute_result"
    }
   ],
   "source": [
    "df.head()"
   ]
  },
  {
   "cell_type": "code",
   "execution_count": 7,
   "id": "5c05b99d",
   "metadata": {},
   "outputs": [],
   "source": [
    "import matplotlib.pyplot as plt\n",
    "import seaborn as sns\n"
   ]
  },
  {
   "cell_type": "code",
   "execution_count": 8,
   "id": "8c5ead39",
   "metadata": {},
   "outputs": [],
   "source": [
    "%matplotlib inline"
   ]
  },
  {
   "cell_type": "code",
   "execution_count": 9,
   "id": "855fd010",
   "metadata": {},
   "outputs": [
    {
     "data": {
      "text/plain": [
       "<AxesSubplot:xlabel='price', ylabel='Count'>"
      ]
     },
     "execution_count": 9,
     "metadata": {},
     "output_type": "execute_result"
    },
    {
     "data": {
      "image/png": "[encoded data removed]",
      "text/plain": [
       "<Figure size 432x288 with 1 Axes>"
      ]
     },
     "metadata": {
      "needs_background": "light"
     },
     "output_type": "display_data"
    }
   ],
   "source": [
    "sns.histplot(np.log1p(df.price), bins=50)\n"
   ]
  },
  {
   "cell_type": "code",
   "execution_count": 10,
   "id": "75ee7f93",
   "metadata": {},
   "outputs": [],
   "source": [
    "df = df[['latitude',\n",
    "'longitude',\n",
    "'price',\n",
    "'minimum_nights',\n",
    "'number_of_reviews',\n",
    "'reviews_per_month',\n",
    "'calculated_host_listings_count',\n",
    "'availability_365']]"
   ]
  },
  {
   "cell_type": "code",
   "execution_count": 11,
   "id": "70c84914",
   "metadata": {},
   "outputs": [
    {
     "data": {
      "text/plain": [
       "latitude                              0\n",
       "longitude                             0\n",
       "price                                 0\n",
       "minimum_nights                        0\n",
       "number_of_reviews                     0\n",
       "reviews_per_month                 10052\n",
       "calculated_host_listings_count        0\n",
       "availability_365                      0\n",
       "dtype: int64"
      ]
     },
     "execution_count": 11,
     "metadata": {},
     "output_type": "execute_result"
    }
   ],
   "source": [
    "df.isnull().sum()"
   ]
  },
  {
   "cell_type": "code",
   "execution_count": 12,
   "id": "0d8eaf84",
   "metadata": {},
   "outputs": [
    {
     "data": {
      "text/plain": [
       "3.0"
      ]
     },
     "execution_count": 12,
     "metadata": {},
     "output_type": "execute_result"
    }
   ],
   "source": [
    "df.minimum_nights.median()"
   ]
  },
  {
   "cell_type": "code",
   "execution_count": 13,
   "id": "1ca5378d",
   "metadata": {},
   "outputs": [
    {
     "data": {
      "text/plain": [
       "48895"
      ]
     },
     "execution_count": 13,
     "metadata": {},
     "output_type": "execute_result"
    }
   ],
   "source": [
    "n = len(df)\n",
    "n"
   ]
  },
  {
   "cell_type": "code",
   "execution_count": 14,
   "id": "0d54987a",
   "metadata": {},
   "outputs": [
    {
     "data": {
      "text/plain": [
       "array([    0,     1,     2, ..., 48892, 48893, 48894])"
      ]
     },
     "execution_count": 14,
     "metadata": {},
     "output_type": "execute_result"
    }
   ],
   "source": [
    "idx = np.arange(n)\n",
    "idx"
   ]
  },
  {
   "cell_type": "code",
   "execution_count": null,
   "id": "dba71486",
   "metadata": {},
   "outputs": [],
   "source": []
  },
  {
   "cell_type": "code",
   "execution_count": 15,
   "id": "f5c1260e",
   "metadata": {},
   "outputs": [],
   "source": [
    "np.random.seed(42)\n",
    "np.random.shuffle(idx)"
   ]
  },
  {
   "cell_type": "code",
   "execution_count": 16,
   "id": "c4f6c0ad",
   "metadata": {},
   "outputs": [],
   "source": [
    "df = df.iloc[idx].reset_index(drop=True)"
   ]
  },
  {
   "cell_type": "code",
   "execution_count": 17,
   "id": "a9fd0dfa",
   "metadata": {},
   "outputs": [
    {
     "data": {
      "text/html": [
       "<div>\n",
       "<style scoped>\n",
       "    .dataframe tbody tr th:only-of-type {\n",
       "        vertical-align: middle;\n",
       "    }\n",
       "\n",
       "    .dataframe tbody tr th {\n",
       "        vertical-align: top;\n",
       "    }\n",
       "\n",
       "    .dataframe thead th {\n",
       "        text-align: right;\n",
       "    }\n",
       "</style>\n",
       "<table border=\"1\" class=\"dataframe\">\n",
       "  <thead>\n",
       "    <tr style=\"text-align: right;\">\n",
       "      <th></th>\n",
       "      <th>latitude</th>\n",
       "      <th>longitude</th>\n",
       "      <th>price</th>\n",
       "      <th>minimum_nights</th>\n",
       "      <th>number_of_reviews</th>\n",
       "      <th>reviews_per_month</th>\n",
       "      <th>calculated_host_listings_count</th>\n",
       "      <th>availability_365</th>\n",
       "    </tr>\n",
       "  </thead>\n",
       "  <tbody>\n",
       "    <tr>\n",
       "      <th>0</th>\n",
       "      <td>40.64354</td>\n",
       "      <td>-73.97777</td>\n",
       "      <td>89</td>\n",
       "      <td>3</td>\n",
       "      <td>62</td>\n",
       "      <td>0.71</td>\n",
       "      <td>1</td>\n",
       "      <td>189</td>\n",
       "    </tr>\n",
       "    <tr>\n",
       "      <th>1</th>\n",
       "      <td>40.70666</td>\n",
       "      <td>-73.90779</td>\n",
       "      <td>30</td>\n",
       "      <td>21</td>\n",
       "      <td>0</td>\n",
       "      <td>NaN</td>\n",
       "      <td>1</td>\n",
       "      <td>73</td>\n",
       "    </tr>\n",
       "    <tr>\n",
       "      <th>2</th>\n",
       "      <td>40.76116</td>\n",
       "      <td>-73.99016</td>\n",
       "      <td>120</td>\n",
       "      <td>2</td>\n",
       "      <td>17</td>\n",
       "      <td>0.43</td>\n",
       "      <td>1</td>\n",
       "      <td>0</td>\n",
       "    </tr>\n",
       "    <tr>\n",
       "      <th>3</th>\n",
       "      <td>40.70763</td>\n",
       "      <td>-74.01050</td>\n",
       "      <td>470</td>\n",
       "      <td>2</td>\n",
       "      <td>5</td>\n",
       "      <td>1.88</td>\n",
       "      <td>327</td>\n",
       "      <td>272</td>\n",
       "    </tr>\n",
       "    <tr>\n",
       "      <th>4</th>\n",
       "      <td>40.79658</td>\n",
       "      <td>-73.93287</td>\n",
       "      <td>199</td>\n",
       "      <td>2</td>\n",
       "      <td>30</td>\n",
       "      <td>0.80</td>\n",
       "      <td>1</td>\n",
       "      <td>30</td>\n",
       "    </tr>\n",
       "    <tr>\n",
       "      <th>...</th>\n",
       "      <td>...</td>\n",
       "      <td>...</td>\n",
       "      <td>...</td>\n",
       "      <td>...</td>\n",
       "      <td>...</td>\n",
       "      <td>...</td>\n",
       "      <td>...</td>\n",
       "      <td>...</td>\n",
       "    </tr>\n",
       "    <tr>\n",
       "      <th>48890</th>\n",
       "      <td>40.84650</td>\n",
       "      <td>-73.94319</td>\n",
       "      <td>60</td>\n",
       "      <td>1</td>\n",
       "      <td>0</td>\n",
       "      <td>NaN</td>\n",
       "      <td>1</td>\n",
       "      <td>0</td>\n",
       "    </tr>\n",
       "    <tr>\n",
       "      <th>48891</th>\n",
       "      <td>40.73957</td>\n",
       "      <td>-74.00082</td>\n",
       "      <td>85</td>\n",
       "      <td>2</td>\n",
       "      <td>4</td>\n",
       "      <td>1.90</td>\n",
       "      <td>1</td>\n",
       "      <td>76</td>\n",
       "    </tr>\n",
       "    <tr>\n",
       "      <th>48892</th>\n",
       "      <td>40.78318</td>\n",
       "      <td>-73.97372</td>\n",
       "      <td>130</td>\n",
       "      <td>30</td>\n",
       "      <td>1</td>\n",
       "      <td>0.34</td>\n",
       "      <td>5</td>\n",
       "      <td>261</td>\n",
       "    </tr>\n",
       "    <tr>\n",
       "      <th>48893</th>\n",
       "      <td>40.77508</td>\n",
       "      <td>-73.97990</td>\n",
       "      <td>150</td>\n",
       "      <td>2</td>\n",
       "      <td>11</td>\n",
       "      <td>0.13</td>\n",
       "      <td>1</td>\n",
       "      <td>2</td>\n",
       "    </tr>\n",
       "    <tr>\n",
       "      <th>48894</th>\n",
       "      <td>40.74657</td>\n",
       "      <td>-73.94555</td>\n",
       "      <td>120</td>\n",
       "      <td>5</td>\n",
       "      <td>1</td>\n",
       "      <td>0.03</td>\n",
       "      <td>1</td>\n",
       "      <td>0</td>\n",
       "    </tr>\n",
       "  </tbody>\n",
       "</table>\n",
       "<p>48895 rows × 8 columns</p>\n",
       "</div>"
      ],
      "text/plain": [
       "       latitude  longitude  price  minimum_nights  number_of_reviews  \\\n",
       "0      40.64354  -73.97777     89               3                 62   \n",
       "1      40.70666  -73.90779     30              21                  0   \n",
       "2      40.76116  -73.99016    120               2                 17   \n",
       "3      40.70763  -74.01050    470               2                  5   \n",
       "4      40.79658  -73.93287    199               2                 30   \n",
       "...         ...        ...    ...             ...                ...   \n",
       "48890  40.84650  -73.94319     60               1                  0   \n",
       "48891  40.73957  -74.00082     85               2                  4   \n",
       "48892  40.78318  -73.97372    130              30                  1   \n",
       "48893  40.77508  -73.97990    150               2                 11   \n",
       "48894  40.74657  -73.94555    120               5                  1   \n",
       "\n",
       "       reviews_per_month  calculated_host_listings_count  availability_365  \n",
       "0                   0.71                               1               189  \n",
       "1                    NaN                               1                73  \n",
       "2                   0.43                               1                 0  \n",
       "3                   1.88                             327               272  \n",
       "4                   0.80                               1                30  \n",
       "...                  ...                             ...               ...  \n",
       "48890                NaN                               1                 0  \n",
       "48891               1.90                               1                76  \n",
       "48892               0.34                               5               261  \n",
       "48893               0.13                               1                 2  \n",
       "48894               0.03                               1                 0  \n",
       "\n",
       "[48895 rows x 8 columns]"
      ]
     },
     "execution_count": 17,
     "metadata": {},
     "output_type": "execute_result"
    }
   ],
   "source": [
    "df"
   ]
  },
  {
   "cell_type": "code",
   "execution_count": 18,
   "id": "c3464753",
   "metadata": {},
   "outputs": [],
   "source": [
    "n_val = int(len(df)*0.2)\n",
    "n_test = int(len(df)*0.2)\n",
    "n_train = len(df) - n_val - n_test\n"
   ]
  },
  {
   "cell_type": "code",
   "execution_count": 19,
   "id": "12088e80",
   "metadata": {},
   "outputs": [
    {
     "data": {
      "text/plain": [
       "(29337, 9779, 9779)"
      ]
     },
     "execution_count": 19,
     "metadata": {},
     "output_type": "execute_result"
    }
   ],
   "source": [
    "n_train, n_val, n_test"
   ]
  },
  {
   "cell_type": "code",
   "execution_count": 20,
   "id": "5e9e916b",
   "metadata": {},
   "outputs": [],
   "source": [
    "df_train = df.iloc[:n_train]\n",
    "df_val = df.iloc[n_train:n_train+n_val]\n",
    "df_test = df.iloc[-n_test:]"
   ]
  },
  {
   "cell_type": "code",
   "execution_count": 21,
   "id": "577e7374",
   "metadata": {},
   "outputs": [
    {
     "name": "stdout",
     "output_type": "stream",
     "text": [
      "29337 9779 9779\n"
     ]
    }
   ],
   "source": [
    "print(len(df_train), len(df_val), len(df_test))"
   ]
  },
  {
   "cell_type": "code",
   "execution_count": 22,
   "id": "2d1cf378",
   "metadata": {},
   "outputs": [],
   "source": [
    "y_train = np.log1p(df_train.price.values)\n",
    "y_val = np.log1p(df_val.price.values)\n",
    "y_test = np.log1p(df_test.price.values)"
   ]
  },
  {
   "cell_type": "code",
   "execution_count": 23,
   "id": "006f4fa3",
   "metadata": {},
   "outputs": [],
   "source": [
    "del df_train['price']\n",
    "del df_val['price']\n",
    "del df_test['price']"
   ]
  },
  {
   "cell_type": "code",
   "execution_count": 24,
   "id": "fee20ecb",
   "metadata": {},
   "outputs": [
    {
     "data": {
      "text/plain": [
       "Index(['latitude', 'longitude', 'minimum_nights', 'number_of_reviews',\n",
       "       'reviews_per_month', 'calculated_host_listings_count',\n",
       "       'availability_365'],\n",
       "      dtype='object')"
      ]
     },
     "execution_count": 24,
     "metadata": {},
     "output_type": "execute_result"
    }
   ],
   "source": [
    "df_train.columns"
   ]
  },
  {
   "cell_type": "code",
   "execution_count": 25,
   "id": "6f2687b2",
   "metadata": {},
   "outputs": [
    {
     "data": {
      "text/plain": [
       "7"
      ]
     },
     "execution_count": 25,
     "metadata": {},
     "output_type": "execute_result"
    }
   ],
   "source": [
    "df_train.columns.size\n"
   ]
  },
  {
   "cell_type": "code",
   "execution_count": 26,
   "id": "56f1d0f7",
   "metadata": {},
   "outputs": [
    {
     "data": {
      "text/plain": [
       "array([4.49980967, 3.4339872 , 4.79579055, ..., 4.61512052, 4.2341065 ,\n",
       "       3.8286414 ])"
      ]
     },
     "execution_count": 26,
     "metadata": {},
     "output_type": "execute_result"
    }
   ],
   "source": [
    "y_train"
   ]
  },
  {
   "cell_type": "code",
   "execution_count": 27,
   "id": "c5d77c4d",
   "metadata": {},
   "outputs": [],
   "source": [
    "df_train_nazero = df_train.fillna(0)"
   ]
  },
  {
   "cell_type": "code",
   "execution_count": 28,
   "id": "b71bfcaa",
   "metadata": {},
   "outputs": [
    {
     "data": {
      "text/plain": [
       "latitude                          0\n",
       "longitude                         0\n",
       "minimum_nights                    0\n",
       "number_of_reviews                 0\n",
       "reviews_per_month                 0\n",
       "calculated_host_listings_count    0\n",
       "availability_365                  0\n",
       "dtype: int64"
      ]
     },
     "execution_count": 28,
     "metadata": {},
     "output_type": "execute_result"
    }
   ],
   "source": [
    "df_train_nazero.isnull().sum()"
   ]
  },
  {
   "cell_type": "code",
   "execution_count": 29,
   "id": "a1e04b61",
   "metadata": {},
   "outputs": [
    {
     "data": {
      "text/plain": [
       "array([[ 4.064354e+01, -7.397777e+01,  3.000000e+00, ...,  7.100000e-01,\n",
       "         1.000000e+00,  1.890000e+02],\n",
       "       [ 4.070666e+01, -7.390779e+01,  2.100000e+01, ...,  0.000000e+00,\n",
       "         1.000000e+00,  7.300000e+01],\n",
       "       [ 4.076116e+01, -7.399016e+01,  2.000000e+00, ...,  4.300000e-01,\n",
       "         1.000000e+00,  0.000000e+00],\n",
       "       ...,\n",
       "       [ 4.072716e+01, -7.398524e+01,  3.000000e+00, ...,  3.120000e+00,\n",
       "         1.000000e+00,  6.000000e+01],\n",
       "       [ 4.079578e+01, -7.394523e+01,  2.000000e+00, ...,  2.100000e+00,\n",
       "         1.000000e+00,  2.650000e+02],\n",
       "       [ 4.069671e+01, -7.394896e+01,  1.000000e+00, ...,  5.000000e-02,\n",
       "         1.000000e+00,  0.000000e+00]])"
      ]
     },
     "execution_count": 29,
     "metadata": {},
     "output_type": "execute_result"
    }
   ],
   "source": [
    "X_train_nazero = np.array(df_train_nazero)\n",
    "X_train_nazero"
   ]
  },
  {
   "cell_type": "code",
   "execution_count": null,
   "id": "08a028d2",
   "metadata": {},
   "outputs": [],
   "source": []
  },
  {
   "cell_type": "code",
   "execution_count": 30,
   "id": "a512cfe3",
   "metadata": {},
   "outputs": [],
   "source": [
    "def train_linear_regression(X, y):\n",
    "    ones = np.ones(X.shape[0])\n",
    "    X = np.column_stack([ones, X])\n",
    "\n",
    "    XTX = X.T.dot(X)\n",
    "    XTX_inv = np.linalg.inv(XTX)\n",
    "    w_full = XTX_inv.dot(X.T).dot(y)\n",
    "    \n",
    "    return w_full[0], w_full[1:]"
   ]
  },
  {
   "cell_type": "code",
   "execution_count": 42,
   "id": "3b561839",
   "metadata": {},
   "outputs": [],
   "source": [
    "w_0, w = train_linear_regression(X_train_nazero,y_train)\n",
    "y_pred_nazero =w_0 + X_train_nazero.dot(w)"
   ]
  },
  {
   "cell_type": "code",
   "execution_count": 51,
   "id": "037ee600",
   "metadata": {},
   "outputs": [
    {
     "data": {
      "text/plain": [
       "array([4.7827747 , 4.45947456, 4.89702083, ..., 4.82048871, 4.86944871,\n",
       "       4.61612559])"
      ]
     },
     "execution_count": 51,
     "metadata": {},
     "output_type": "execute_result"
    }
   ],
   "source": [
    "y_pred_nazero"
   ]
  },
  {
   "cell_type": "code",
   "execution_count": 47,
   "id": "888b9080",
   "metadata": {},
   "outputs": [
    {
     "data": {
      "image/png": "[encoded data removed]",
      "text/plain": [
       "<Figure size 432x288 with 1 Axes>"
      ]
     },
     "metadata": {
      "needs_background": "light"
     },
     "output_type": "display_data"
    }
   ],
   "source": [
    "plt.figure(figsize=(6, 4))\n",
    "\n",
    "sns.histplot(y_train, label='target', color='#222222', alpha=0.6, bins=40)\n",
    "sns.histplot(y_pred_nazero, label='prediction', color='#aaaaaa', alpha=0.8, bins=40)\n",
    "\n",
    "plt.legend()\n",
    "\n",
    "plt.ylabel('Frequency')\n",
    "plt.xlabel('Log(Price + 1)')\n",
    "plt.title('Predictions vs actual distribution')\n",
    "\n",
    "plt.show()"
   ]
  },
  {
   "cell_type": "code",
   "execution_count": 38,
   "id": "ea25e074",
   "metadata": {},
   "outputs": [
    {
     "data": {
      "text/plain": [
       "array([[ 4.06435400e+01, -7.39777700e+01,  3.00000000e+00, ...,\n",
       "         7.10000000e-01,  1.00000000e+00,  1.89000000e+02],\n",
       "       [ 4.07066600e+01, -7.39077900e+01,  2.10000000e+01, ...,\n",
       "         1.36854921e+00,  1.00000000e+00,  7.30000000e+01],\n",
       "       [ 4.07611600e+01, -7.39901600e+01,  2.00000000e+00, ...,\n",
       "         4.30000000e-01,  1.00000000e+00,  0.00000000e+00],\n",
       "       ...,\n",
       "       [ 4.07271600e+01, -7.39852400e+01,  3.00000000e+00, ...,\n",
       "         3.12000000e+00,  1.00000000e+00,  6.00000000e+01],\n",
       "       [ 4.07957800e+01, -7.39452300e+01,  2.00000000e+00, ...,\n",
       "         2.10000000e+00,  1.00000000e+00,  2.65000000e+02],\n",
       "       [ 4.06967100e+01, -7.39489600e+01,  1.00000000e+00, ...,\n",
       "         5.00000000e-02,  1.00000000e+00,  0.00000000e+00]])"
      ]
     },
     "execution_count": 38,
     "metadata": {},
     "output_type": "execute_result"
    }
   ],
   "source": [
    "df_train_means = df_train.fillna(df_train.reviews_per_month.mean())\n",
    "X_train_means = np.array(df_train_means)\n",
    "X_train_means"
   ]
  },
  {
   "cell_type": "code",
   "execution_count": 39,
   "id": "948ce13b",
   "metadata": {},
   "outputs": [],
   "source": [
    "w_0 ,w  = train_linear_regression(X_train_means,y_train)"
   ]
  },
  {
   "cell_type": "code",
   "execution_count": 48,
   "id": "30fc8282",
   "metadata": {},
   "outputs": [],
   "source": [
    "y_pred_means = w_0 + X_train_means.dot(w)"
   ]
  },
  {
   "cell_type": "code",
   "execution_count": 49,
   "id": "1e9faf41",
   "metadata": {},
   "outputs": [
    {
     "data": {
      "text/plain": [
       "array([4.7827747 , 4.4481776 , 4.89702083, ..., 4.82048871, 4.86944871,\n",
       "       4.61612559])"
      ]
     },
     "execution_count": 49,
     "metadata": {},
     "output_type": "execute_result"
    }
   ],
   "source": [
    "y_pred_means"
   ]
  },
  {
   "cell_type": "code",
   "execution_count": 50,
   "id": "e1c7d787",
   "metadata": {},
   "outputs": [
    {
     "data": {
      "image/png": "[encoded data removed]",
      "text/plain": [
       "<Figure size 432x288 with 1 Axes>"
      ]
     },
     "metadata": {
      "needs_background": "light"
     },
     "output_type": "display_data"
    }
   ],
   "source": [
    "plt.figure(figsize=(6, 4))\n",
    "\n",
    "sns.histplot(y_train, label='target', color='#222222', alpha=0.6, bins=40)\n",
    "sns.histplot(y_pred_means, label='prediction', color='#aaaaaa', alpha=0.8, bins=40)\n",
    "\n",
    "plt.legend()\n",
    "\n",
    "plt.ylabel('Frequency')\n",
    "plt.xlabel('Log(Price + 1)')\n",
    "plt.title('Predictions vs actual distribution')\n",
    "\n",
    "plt.show()"
   ]
  },
  {
   "cell_type": "code",
   "execution_count": null,
   "id": "fce67b37",
   "metadata": {},
   "outputs": [],
   "source": [
    "def rmse(y, y_pred):\n",
    "    error = y_pred - y\n",
    "    mse = (error ** 2).mean()\n",
    "    return np.sqrt(mse)"
   ]
  },
  {
   "cell_type": "code",
   "execution_count": 54,
   "id": "a31db078",
   "metadata": {},
   "outputs": [
    {
     "data": {
      "text/plain": [
       "0.64"
      ]
     },
     "execution_count": 54,
     "metadata": {},
     "output_type": "execute_result"
    }
   ],
   "source": [
    "round(rmse(y_train, y_pred_nazero),2)\n"
   ]
  },
  {
   "cell_type": "code",
   "execution_count": 55,
   "id": "802af75f",
   "metadata": {},
   "outputs": [
    {
     "data": {
      "text/plain": [
       "0.64"
      ]
     },
     "execution_count": 55,
     "metadata": {},
     "output_type": "execute_result"
    }
   ],
   "source": [
    "round(rmse(y_train,y_pred_means),2)"
   ]
  },
  {
   "cell_type": "code",
   "execution_count": 56,
   "id": "90dd8e26",
   "metadata": {},
   "outputs": [],
   "source": [
    "X_val = np.array(df_val)"
   ]
  },
  {
   "cell_type": "code",
   "execution_count": 67,
   "id": "2a024291",
   "metadata": {},
   "outputs": [
    {
     "data": {
      "text/plain": [
       "0.6429182536998099"
      ]
     },
     "execution_count": 67,
     "metadata": {},
     "output_type": "execute_result"
    }
   ],
   "source": [
    "w_0 ,w  = train_linear_regression(X_train_means,y_train)\n",
    "y_val_pred = w_0 + X_val.dot(w)\n",
    "rmse(y_val, y_val_pred)"
   ]
  },
  {
   "cell_type": "code",
   "execution_count": 61,
   "id": "25ca777e",
   "metadata": {},
   "outputs": [
    {
     "data": {
      "text/plain": [
       "nan"
      ]
     },
     "execution_count": 61,
     "metadata": {},
     "output_type": "execute_result"
    }
   ],
   "source": [
    "rmse(y_val, y_val_pred)"
   ]
  },
  {
   "cell_type": "code",
   "execution_count": 63,
   "id": "2cd393bd",
   "metadata": {},
   "outputs": [],
   "source": [
    "df_val = df_val.fillna(0)\n"
   ]
  },
  {
   "cell_type": "code",
   "execution_count": 64,
   "id": "ca171afe",
   "metadata": {},
   "outputs": [],
   "source": [
    "X_val = df_val.values"
   ]
  },
  {
   "cell_type": "code",
   "execution_count": 70,
   "id": "f88d0907",
   "metadata": {},
   "outputs": [
    {
     "data": {
      "text/plain": [
       "0.6430337788640698"
      ]
     },
     "execution_count": 70,
     "metadata": {},
     "output_type": "execute_result"
    }
   ],
   "source": [
    "w_0 ,w  = train_linear_regression(X_train_nazero,y_train)\n",
    "y_val_pred = w_0 + X_val.dot(w)\n",
    "rmse(y_val, y_val_pred)"
   ]
  },
  {
   "cell_type": "markdown",
   "id": "03ed4af3",
   "metadata": {},
   "source": [
    "# Regularization"
   ]
  },
  {
   "cell_type": "code",
   "execution_count": 71,
   "id": "d2d72e32",
   "metadata": {},
   "outputs": [],
   "source": [
    "def train_linear_regression_reg(X, y, r):\n",
    "    ones = np.ones(X.shape[0])\n",
    "    X = np.column_stack([ones, X])\n",
    "\n",
    "    XTX = X.T.dot(X)\n",
    "    reg = r * np.eye(XTX.shape[0])\n",
    "    XTX = XTX + reg\n",
    "\n",
    "    XTX_inv = np.linalg.inv(XTX)\n",
    "    w = XTX_inv.dot(X.T).dot(y)\n",
    "    \n",
    "    return w[0], w[1:]"
   ]
  },
  {
   "cell_type": "code",
   "execution_count": 77,
   "id": "ca923d3c",
   "metadata": {},
   "outputs": [
    {
     "name": "stdout",
     "output_type": "stream",
     "text": [
      "0  -  0.6430337788640698\n",
      "1e-06  -  0.6430341157503514\n",
      "0.0001  -  0.6430723153756869\n",
      "0.001  -  0.6437669735718055\n",
      "0.01  -  0.655752842786336\n",
      "0.1  -  0.6773299642476267\n",
      "1  -  0.6823116950155929\n",
      "5  -  0.682791572783955\n",
      "10  -  0.6828430212103209\n"
     ]
    }
   ],
   "source": [
    "list_of_rmse = []\n",
    "for r in [0, 0.000001, 0.0001, 0.001, 0.01, 0.1, 1, 5, 10]:\n",
    "    w_0 ,w  = train_linear_regression_reg(X_train_nazero,y_train,r)\n",
    "    y_val_pred = w_0 + X_val.dot(w)\n",
    "    print(r, ' - ' ,rmse(y_val, y_val_pred))\n",
    "    list_of_rmse.append(rmse(y_val, y_val_pred))"
   ]
  },
  {
   "cell_type": "code",
   "execution_count": 78,
   "id": "bdaa2ca6",
   "metadata": {},
   "outputs": [
    {
     "data": {
      "text/plain": [
       "[0.6430337788640698,\n",
       " 0.6430341157503514,\n",
       " 0.6430723153756869,\n",
       " 0.6437669735718055,\n",
       " 0.655752842786336,\n",
       " 0.6773299642476267,\n",
       " 0.6823116950155929,\n",
       " 0.682791572783955,\n",
       " 0.6828430212103209]"
      ]
     },
     "execution_count": 78,
     "metadata": {},
     "output_type": "execute_result"
    }
   ],
   "source": [
    "list_of_rmse"
   ]
  },
  {
   "cell_type": "code",
   "execution_count": 79,
   "id": "b8cdd4d5",
   "metadata": {},
   "outputs": [
    {
     "data": {
      "text/plain": [
       "0.6430337788640698"
      ]
     },
     "execution_count": 79,
     "metadata": {},
     "output_type": "execute_result"
    }
   ],
   "source": [
    "min(list_of_rmse)"
   ]
  },
  {
   "cell_type": "markdown",
   "id": "7c965a12",
   "metadata": {},
   "source": [
    "# Q5"
   ]
  },
  {
   "cell_type": "code",
   "execution_count": 96,
   "id": "551f831d",
   "metadata": {},
   "outputs": [
    {
     "name": "stdout",
     "output_type": "stream",
     "text": [
      "0  -  0.6547328360485041\n",
      "1  -  0.6517792424305614\n",
      "2  -  0.6373702644894373\n",
      "3  -  0.6510604570436799\n",
      "4  -  0.6386358543858655\n",
      "5  -  0.6571228445090396\n",
      "6  -  0.6454631211093897\n",
      "7  -  0.6460084805508681\n",
      "8  -  0.6489447886953802\n",
      "9  -  0.6428748682942353\n"
     ]
    }
   ],
   "source": [
    "for s in [0, 1, 2, 3, 4, 5, 6, 7, 8, 9]:\n",
    "    n = len(df)\n",
    "    idx = np.arange(n)\n",
    "    np.random.seed(s)\n",
    "    np.random.shuffle(idx)\n",
    "    df = df.iloc[idx].reset_index(drop=True)\n",
    "    n_val = int(len(df)*0.2)\n",
    "    n_test = int(len(df)*0.2)\n",
    "    n_train = len(df) - n_val - n_test\n",
    "    df_train = df.iloc[:n_train]\n",
    "    df_val = df.iloc[n_train:n_train+n_val]\n",
    "    df_test = df.iloc[-n_test:]\n",
    "    y_train = np.log1p(df_train.price.values)\n",
    "    y_val = np.log1p(df_val.price.values)\n",
    "    y_test = np.log1p(df_test.price.values)\n",
    "    del df_train['price']\n",
    "    del df_val['price']\n",
    "    del df_test['price']\n",
    "    df_train = df_train.fillna(0)\n",
    "    X_train = df_train.values\n",
    "    df_val = df_val.fillna(0)\n",
    "    X_val = df_val.values\n",
    "    w_0 ,w  = train_linear_regression(X_train,y_train)\n",
    "    y_val_pred = w_0 + X_val.dot(w)\n",
    "    print(s, ' - ' ,rmse(y_val, y_val_pred))\n",
    "    list_of_rmse.append(rmse(y_val, y_val_pred))"
   ]
  },
  {
   "cell_type": "code",
   "execution_count": 97,
   "id": "c7b7b7cf",
   "metadata": {},
   "outputs": [
    {
     "data": {
      "text/plain": [
       "0.008"
      ]
     },
     "execution_count": 97,
     "metadata": {},
     "output_type": "execute_result"
    }
   ],
   "source": [
    "round(np.std(list_of_rmse),3)"
   ]
  },
  {
   "cell_type": "markdown",
   "id": "57806933",
   "metadata": {},
   "source": [
    "# Q6"
   ]
  },
  {
   "cell_type": "code",
   "execution_count": 125,
   "id": "d6620df6",
   "metadata": {},
   "outputs": [],
   "source": [
    "n = len(df)\n",
    "idx = np.arange(n)\n",
    "np.random.seed(9)\n",
    "np.random.shuffle(idx)\n",
    "df = df.iloc[idx].reset_index(drop=True)\n",
    "n_val = int(len(df)*0.2)\n",
    "n_test = int(len(df)*0.2)\n",
    "n_train = len(df) - n_val - n_test\n",
    "df_train = df.iloc[:n_train]\n",
    "df_val = df.iloc[n_train:n_train+n_val]\n",
    "df_test = df.iloc[-n_test:]\n",
    "y_train = np.log1p(df_train.price.values)\n",
    "y_val = np.log1p(df_val.price.values)\n",
    "y_test = np.log1p(df_test.price.values)\n",
    "del df_train['price']\n",
    "del df_val['price']\n",
    "del df_test['price']\n",
    "df_full_train = pd.concat([df_train, df_val])"
   ]
  },
  {
   "cell_type": "code",
   "execution_count": 130,
   "id": "f0c6dc3c",
   "metadata": {},
   "outputs": [],
   "source": [
    "df_full_train = df_full_train.fillna(0)\n",
    "df_test = df_test.fillna(0)\n",
    "X_full_train = df_full_train.values\n",
    "X_test = df_test.values"
   ]
  },
  {
   "cell_type": "code",
   "execution_count": 131,
   "id": "929b85dc",
   "metadata": {},
   "outputs": [
    {
     "data": {
      "text/plain": [
       "array([[ 4.082060e+01, -7.393779e+01,  5.000000e+00, ...,  1.600000e-01,\n",
       "         1.000000e+00,  0.000000e+00],\n",
       "       [ 4.072546e+01, -7.400036e+01,  3.000000e+00, ...,  2.800000e-01,\n",
       "         2.000000e+00,  3.000000e+00],\n",
       "       [ 4.078923e+01, -7.396802e+01,  3.000000e+01, ...,  1.000000e+00,\n",
       "         1.000000e+00,  3.000000e+01],\n",
       "       ...,\n",
       "       [ 4.074421e+01, -7.398007e+01,  3.000000e+00, ...,  1.000000e-01,\n",
       "         1.000000e+00,  0.000000e+00],\n",
       "       [ 4.066223e+01, -7.395955e+01,  2.000000e+00, ...,  6.000000e-02,\n",
       "         1.000000e+00,  0.000000e+00],\n",
       "       [ 4.071115e+01, -7.393735e+01,  1.000000e+00, ...,  3.900000e-01,\n",
       "         2.000000e+00,  0.000000e+00]])"
      ]
     },
     "execution_count": 131,
     "metadata": {},
     "output_type": "execute_result"
    }
   ],
   "source": [
    "X_full_train"
   ]
  },
  {
   "cell_type": "code",
   "execution_count": 132,
   "id": "fd9ca362",
   "metadata": {},
   "outputs": [],
   "source": [
    "y_full_train = np.concatenate([y_train,y_val])\n"
   ]
  },
  {
   "cell_type": "code",
   "execution_count": 133,
   "id": "9558dea7",
   "metadata": {},
   "outputs": [
    {
     "data": {
      "text/plain": [
       "0.6507240298929252"
      ]
     },
     "execution_count": 133,
     "metadata": {},
     "output_type": "execute_result"
    }
   ],
   "source": [
    "wo, w = train_linear_regression_reg(X_full_train, y_full_train,r=0.001)\n",
    "y_test_pred = wo + X_test.dot(w)\n",
    "rmse(y_test, y_test_pred)"
   ]
  },
  {
   "cell_type": "code",
   "execution_count": null,
   "id": "c247424f",
   "metadata": {},
   "outputs": [],
   "source": []
  }
 ],
 "metadata": {
  "kernelspec": {
   "display_name": "Python 3",
   "language": "python",
   "name": "python3"
  },
  "language_info": {
   "codemirror_mode": {
    "name": "ipython",
    "version": 3
   },
   "file_extension": ".py",
   "mimetype": "text/x-python",
   "name": "python",
   "nbconvert_exporter": "python",
   "pygments_lexer": "ipython3",
   "version": "3.8.8"
  }
 },
 "nbformat": 4,
 "nbformat_minor": 5
}
